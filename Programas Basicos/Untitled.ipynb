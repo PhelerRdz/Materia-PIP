{
 "cells": [
  {
   "cell_type": "code",
   "execution_count": 2,
   "metadata": {},
   "outputs": [],
   "source": [
    "import numpy as np\n",
    "import math"
   ]
  },
  {
   "cell_type": "code",
   "execution_count": null,
   "metadata": {},
   "outputs": [],
   "source": [
    "totalnum = 40\n",
    "sumanum = 10\n",
    "\n",
    "x = {}\n",
    "for i in range(totalnum+1):\n",
    "    x[i]=0\n",
    "print(x)\n",
    "\n",
    "suma=0\n",
    "for i in range(totalnum+1):\n",
    "    x[i+1]=np.random.randint((-1*totalnum),(totalnum))\n",
    "for i in range(totalnum):\n",
    "    suma = suma+x[i+1]\n",
    "x[0]=sumanum-suma\n",
    "print (x)\n",
    "\n",
    "total=0\n",
    "for i in range(totalnum+1):\n",
    "    total = total+x[i]\n",
    "print(total)"
   ]
  },
  {
   "cell_type": "code",
   "execution_count": null,
   "metadata": {
    "scrolled": true
   },
   "outputs": [
    {
     "name": "stdout",
     "output_type": "stream",
     "text": [
      "Ingrese el numero de numeros a ingresar: 35\n",
      "Ingrese numero 1: 10\n",
      "Ingrese numero 2: 8\n",
      "Ingrese numero 3: 10\n",
      "Ingrese numero 4: 10\n",
      "Ingrese numero 5: 10\n",
      "Ingrese numero 6: 6\n",
      "Ingrese numero 7: 10\n",
      "Ingrese numero 8: 9\n",
      "Ingrese numero 9: 10\n",
      "Ingrese numero 10: 10\n",
      "Ingrese numero 11: 7\n",
      "Ingrese numero 12: 10\n",
      "Ingrese numero 13: 10\n",
      "Ingrese numero 14: 9\n",
      "Ingrese numero 15: 10\n",
      "Ingrese numero 16: 10\n",
      "Ingrese numero 17: 7\n",
      "Ingrese numero 18: 9\n",
      "Ingrese numero 19: 9\n",
      "Ingrese numero 20: 10\n",
      "Ingrese numero 21: 9\n",
      "Ingrese numero 22: 10\n",
      "Ingrese numero 23: 9\n",
      "Ingrese numero 24: 7\n",
      "Ingrese numero 25: 6\n",
      "Ingrese numero 26: 10\n",
      "Ingrese numero 27: 10\n",
      "Ingrese numero 28: 10\n"
     ]
    }
   ],
   "source": [
    "suma=0\n",
    "x=input(\"Ingrese el numero de numeros a ingresar: \")\n",
    "for i in range(int(x)):\n",
    "    y=input(\"Ingrese numero %d: \" % (i+1))\n",
    "    suma = suma+int(y)\n",
    "print(\"Suma: %d\" % int(suma))\n",
    "promedio=float(suma)/float(x)\n",
    "print(\"El promedio es: %.4f\" % promedio)"
   ]
  },
  {
   "cell_type": "code",
   "execution_count": null,
   "metadata": {},
   "outputs": [],
   "source": []
  }
 ],
 "metadata": {
  "kernelspec": {
   "display_name": "Python 3",
   "language": "python",
   "name": "python3"
  },
  "language_info": {
   "codemirror_mode": {
    "name": "ipython",
    "version": 3
   },
   "file_extension": ".py",
   "mimetype": "text/x-python",
   "name": "python",
   "nbconvert_exporter": "python",
   "pygments_lexer": "ipython3",
   "version": "3.7.4"
  }
 },
 "nbformat": 4,
 "nbformat_minor": 2
}
