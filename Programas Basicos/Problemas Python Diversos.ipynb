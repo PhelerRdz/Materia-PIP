{
 "cells": [
  {
   "cell_type": "code",
   "execution_count": 2,
   "metadata": {},
   "outputs": [
    {
     "name": "stdout",
     "output_type": "stream",
     "text": [
      "Este programa encuentra una raíz, por el método de bisección\n",
      "Introduce el valor de xi0\n",
      "Introduce el valor de xs10\n",
      "Introduce el error0.0001\n",
      "    i         xi        xs        xa      signo     cambio    error   \n",
      "    1       0.0000    5.0000    5.0000   negativo  superior   6.0000  \n",
      "    2       2.5000    5.0000    2.5000   positivo  inferior  -5.2500  \n",
      "    3       3.7500    5.0000    3.7500   positivo  inferior  -1.1875  \n",
      "    4       3.7500    4.3750    4.3750   negativo  superior   2.0156  \n",
      "    5       3.7500    4.0625    4.0625   negativo  superior   0.3164  \n",
      "    6       3.9062    4.0625    3.9062   positivo  inferior  -0.4600  \n",
      "    7       3.9844    4.0625    3.9844   positivo  inferior  -0.0779  \n",
      "    8       3.9844    4.0234    4.0234   negativo  superior   0.1177  \n",
      "    9       3.9844    4.0039    4.0039   negativo  superior   0.0195  \n",
      "    10      3.9941    4.0039    3.9941   positivo  inferior  -0.0293  \n",
      "    11      3.9990    4.0039    3.9990   positivo  inferior  -0.0049  \n",
      "    12      3.9990    4.0015    4.0015   negativo  superior   0.0073  \n",
      "    13      3.9990    4.0002    4.0002   negativo  superior   0.0012  \n",
      "    14      3.9996    4.0002    3.9996   positivo  inferior  -0.0018  \n",
      "    15      3.9999    4.0002    3.9999   positivo  inferior  -0.0003  \n",
      "    16      3.9999    4.0001    4.0001   negativo  superior   0.0005  \n",
      "    17      3.9999    4.0000    4.0000   negativo  superior   0.0001  \n",
      "La raíz es:  4.0000152587890625\n"
     ]
    }
   ],
   "source": [
    "from builtins import print\n",
    "\n",
    "def poli(x):\n",
    "      y=pow(x,2)-(3*x)-4\n",
    "      return (y)\n",
    "#Programa principal\n",
    "print(\"Este programa encuentra una raíz, por el método de bisección\")\n",
    "xi=float(input('Introduce el valor de xi'))\n",
    "xs=float(input('Introduce el valor de xs'))\n",
    "error=float((input('Introduce el error')))\n",
    "xa = (xi+xs)/2.0\n",
    "i=0\n",
    "print('{:^10}{:^10}{:^10}{:^10}{:^10}{:^10}{:^10}'.format('i','xi','xs','xa','signo','cambio','error'))\n",
    "while abs(poli(xa)) > error:\n",
    "      i=i+1\n",
    "      xa = (xi+xs)/2.0\n",
    "      if poli(xi)*poli(xa) < 0:\n",
    "            xs=xa\n",
    "            signo=\"negativo\"\n",
    "            limite=\"superior\"\n",
    "      else:\n",
    "            xi=xa\n",
    "            signo=\"positivo\"\n",
    "            limite=\"inferior\"\n",
    "      print('{:^10}{:^10.4f}{:^10.4f}{:^10.4f}{:^10}{:^10}{:^10.4f}'.format(i, float(xi), float(xs),float(xa), signo, limite, float(poli(xa))))\n",
    "print(\"La raíz es: \",xa)"
   ]
  },
  {
   "cell_type": "code",
   "execution_count": null,
   "metadata": {},
   "outputs": [],
   "source": [
    "print(\"La raíz es: \",xa)"
   ]
  }
 ],
 "metadata": {
  "kernelspec": {
   "display_name": "Python 3",
   "language": "python",
   "name": "python3"
  },
  "language_info": {
   "codemirror_mode": {
    "name": "ipython",
    "version": 3
   },
   "file_extension": ".py",
   "mimetype": "text/x-python",
   "name": "python",
   "nbconvert_exporter": "python",
   "pygments_lexer": "ipython3",
   "version": "3.7.4"
  }
 },
 "nbformat": 4,
 "nbformat_minor": 2
}
